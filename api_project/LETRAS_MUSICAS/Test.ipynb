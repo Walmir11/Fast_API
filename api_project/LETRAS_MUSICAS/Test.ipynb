{
 "cells": [
  {
   "cell_type": "code",
   "id": "initial_id",
   "metadata": {
    "collapsed": true,
    "ExecuteTime": {
     "end_time": "2024-10-15T17:52:22.529250Z",
     "start_time": "2024-10-15T17:52:21.829747Z"
    }
   },
   "source": [
    "import requests\n",
    "\n",
    "endpoint = 'https://api.lyrics.ovh/v1/titas/flores'\n",
    "\n",
    "response = requests.get(endpoint)\n",
    "\n",
    "response.status_code\n"
   ],
   "outputs": [
    {
     "data": {
      "text/plain": [
       "200"
      ]
     },
     "execution_count": 13,
     "metadata": {},
     "output_type": "execute_result"
    }
   ],
   "execution_count": 13
  },
  {
   "metadata": {
    "ExecuteTime": {
     "end_time": "2024-10-15T17:52:43.252345Z",
     "start_time": "2024-10-15T17:52:43.249063Z"
    }
   },
   "cell_type": "code",
   "source": "print(response.json()['lyrics'])",
   "id": "94b0b62041648c39",
   "outputs": [
    {
     "name": "stdout",
     "output_type": "stream",
     "text": [
      "Olhei até ficar cansado de ver os meus olhos no espelho\r\n",
      "Chorei por ter despedaçado\r\n",
      "As flores que estão no canteiro\r\n",
      "Os punhos e os pulsos cortados\r\n",
      "E o resto do meu corpo inteiro\n",
      "\n",
      "Há flores cobrindo o telhado\n",
      "\n",
      "Embaixo do meu travesseiro\n",
      "\n",
      "Há flores por todos os lados\n",
      "\n",
      "Há flores em tudo o que eu vejo\n",
      "\n",
      "\n",
      "\n",
      "A dor vai curar essas lástimas\n",
      "\n",
      "O soro tem gosto de lágrimas\n",
      "\n",
      "As flores tem cheiro de morte\n",
      "\n",
      "A dor vai fechar esses cortes\n",
      "\n",
      "\n",
      "\n",
      "Flores\n",
      "\n",
      "Flores\n",
      "\n",
      "As flores de plástico não morrem\n"
     ]
    }
   ],
   "execution_count": 15
  }
 ],
 "metadata": {
  "kernelspec": {
   "display_name": "Python 3",
   "language": "python",
   "name": "python3"
  },
  "language_info": {
   "codemirror_mode": {
    "name": "ipython",
    "version": 2
   },
   "file_extension": ".py",
   "mimetype": "text/x-python",
   "name": "python",
   "nbconvert_exporter": "python",
   "pygments_lexer": "ipython2",
   "version": "2.7.6"
  }
 },
 "nbformat": 4,
 "nbformat_minor": 5
}
